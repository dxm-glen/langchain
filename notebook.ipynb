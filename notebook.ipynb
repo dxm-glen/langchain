{
 "cells": [
  {
   "cell_type": "code",
   "execution_count": 29,
   "metadata": {},
   "outputs": [],
   "source": [
    "from langchain.chat_models import ChatOpenAI\n",
    "from langchain.prompts.few_shot import FewShotChatMessagePromptTemplate\n",
    "from langchain.callbacks import StreamingStdOutCallbackHandler\n",
    "from langchain.prompts import ChatPromptTemplate\n",
    "from langchain.memory import ConversationSummaryBufferMemory\n",
    "from langchain.schema.runnable import RunnablePassthrough\n",
    "from langchain.prompts import ChatPromptTemplate, MessagesPlaceholder\n",
    "\n",
    "chat = ChatOpenAI(\n",
    "    temperature=0.1,\n",
    "    streaming=True,\n",
    "    callbacks=[\n",
    "        StreamingStdOutCallbackHandler(),\n",
    "    ],\n",
    ")\n",
    "\n",
    "memory = ConversationSummaryBufferMemory(\n",
    "    llm=chat,\n",
    "    max_token_limit=120,\n",
    "    return_messages=True,\n",
    ")"
   ]
  },
  {
   "cell_type": "code",
   "execution_count": null,
   "metadata": {},
   "outputs": [],
   "source": [
    "emoji_examples = [\n",
    "    {\n",
    "        \"movie\": \"Top Gun\",\n",
    "        \"emojis\": \"🛩️👨‍✈️🔥\",\n",
    "        \"result\": \"Top Gun -> 🛩️👨‍✈️🔥\",\n",
    "    },\n",
    "    {\n",
    "        \"movie\": \"The Godfather\",\n",
    "        \"emojis\": \"👨‍👨‍👦🔫🍝\",\n",
    "        \"result\": \"The Godfather -> 👨‍👨‍👦🔫🍝\",\n",
    "    },\n",
    "    {\n",
    "        \"movie\": \"Inception\",\n",
    "        \"emojis\": \"💤🧠🌀\",\n",
    "        \"result\": \"Inception -> 💤🧠🌀\",\n",
    "    },\n",
    "    {\n",
    "        \"movie\": \"The Matrix\",\n",
    "        \"emojis\": \"🕶️💻👊\",\n",
    "        \"result\": \"The Matrix -> 🕶️💻👊\",\n",
    "    },\n",
    "]"
   ]
  },
  {
   "cell_type": "code",
   "execution_count": null,
   "metadata": {},
   "outputs": [],
   "source": [
    "emoji_example_prompt = FewShotChatMessagePromptTemplate(\n",
    "    example_prompt=ChatPromptTemplate.from_messages(\n",
    "        [\n",
    "            (\"human\", \"영화 {movie}를 나타내는 세 개의 이모티콘은 무엇인가요?\"),\n",
    "            (\"ai\", \"{result}\"),\n",
    "        ]\n",
    "    ),\n",
    "    examples=emoji_examples,\n",
    ")\n",
    "\n",
    "emoji_prompt = ChatPromptTemplate.from_messages(\n",
    "    [\n",
    "        (\n",
    "            \"system\",\n",
    "            \"영화 제목에 대해 그 영화를 나타내는 세 개의 이모티콘을 영화제목과 함께 응답합니다.\",\n",
    "        ),\n",
    "        emoji_example_prompt,\n",
    "        (\n",
    "            \"human\",\n",
    "            \"영화 {movie}를 나타내는 세 개의 이모티콘은 무엇인가요?\",\n",
    "        ),\n",
    "    ]\n",
    ")\n",
    "\n",
    "chat_prompt = ChatPromptTemplate.from_messages(\n",
    "    [\n",
    "        (\"system\", \"You are a helpful AI talking to a human\"),\n",
    "        MessagesPlaceholder(variable_name=\"history\"),\n",
    "        (\"human\", \"{question}\"),\n",
    "    ]\n",
    ")"
   ]
  },
  {
   "cell_type": "code",
   "execution_count": null,
   "metadata": {},
   "outputs": [],
   "source": [
    "def load_memory(_):\n",
    "    return memory.load_memory_variables({})[\"history\"]\n",
    "\n",
    "\n",
    "emoji_chain = emoji_prompt | chat\n",
    "chat_chain = RunnablePassthrough.assign(history=load_memory) | chat_prompt | chat\n",
    "\n",
    "\n",
    "def invoke_chat_chain(question):\n",
    "    result = chat_chain.invoke({\"question\": question})\n",
    "    memory.save_context({\"input\": question}, {\"output\": result.content})\n",
    "\n",
    "\n",
    "def invoke_emoji_chain(movie):\n",
    "    result = emoji_chain.invoke({\"movie\": movie})\n",
    "    memory.save_context({\"input\": movie}, {\"output\": result.content})"
   ]
  },
  {
   "cell_type": "code",
   "execution_count": null,
   "metadata": {},
   "outputs": [],
   "source": [
    "invoke_emoji_chain(\"Interstellar\")\n",
    "print(\"\\n\\n\")\n",
    "invoke_emoji_chain(\"트루먼쇼\")\n",
    "print(\"\\n\\n\")\n",
    "invoke_emoji_chain(\"Darknight\")\n",
    "print(\"\\n\\n\")\n",
    "invoke_chat_chain(\"첫번째로 물어본 영화 제목이 뭐야?\")\n",
    "print(\"\\n\\n\")\n",
    "invoke_chat_chain(\"마지막으로 물어본 영화 제목이 뭐야?\")\n",
    "print(\"\\n\\n\")\n",
    "invoke_chat_chain(\"두번째로 물어본 영화 제목이 뭐야?\")"
   ]
  }
 ],
 "metadata": {
  "kernelspec": {
   "display_name": "env",
   "language": "python",
   "name": "python3"
  },
  "language_info": {
   "codemirror_mode": {
    "name": "ipython",
    "version": 3
   },
   "file_extension": ".py",
   "mimetype": "text/x-python",
   "name": "python",
   "nbconvert_exporter": "python",
   "pygments_lexer": "ipython3",
   "version": "3.11.6"
  }
 },
 "nbformat": 4,
 "nbformat_minor": 2
}
