{
 "cells": [
  {
   "cell_type": "code",
   "execution_count": 26,
   "metadata": {},
   "outputs": [
    {
     "name": "stdout",
     "output_type": "stream",
     "text": [
      "\n",
      "        영화 기본정보:\n",
      "        감독: 크리스토퍼 놀란\n",
      "        출연진: 매튜 맥커너히, 앤 해서웨이, 제시카 차스테인\n",
      "        예산: 1억 6500만 달러\n",
      "        박스 오피스: 6억 7천만 달러\n",
      "        장르: SF, 드라마\n",
      "        시놉시스: 지구가 가용자원 고갈과 환경 파괴로 인해 인류가 멸종 위기에 처한 미래, NASA는 우주 여행을 통해 새로운 행성을 찾는 프로젝트를 진행합니다. 전 NASA 시험 조종사인 쿠퍼(매튜 맥커너히)는 미지의 우주로 떠나 지구를 구하기 위한 여정에 나서지만, 그 여정은 시공간을 넘어 인류의 운명을 바꾸는 미지의 세계로 이어집니다.\n",
      "\n",
      "\n",
      "영화 기본정보:\n",
      "        감독: 크리스토퍼 놀란\n",
      "        출연진: 크리스찬 베일, 히스 레저, 앤 해서웨이\n",
      "        예산: 1억 85만 달러\n",
      "        박스 오피스: 10억 35만 달러\n",
      "        장르: 액션, 스릴러\n",
      "        시놉시스: 배트맨(크리스찬 베일)은 고담시를 위협하는 범죄자 조커(히스 레저)와의 전쟁에 직면합니다. 조커는 고담시를 혼란에 빠뜨리고, 배트맨과 시민들을 괴롭히며 도덕적 딜레마에 빠뜨립니다. 배트맨은 자신의 정체성과 도덕적 원칙을 고민하면서, 조커와의 대결에서 도시를 구원하기 위해 최후의 선택을 내리게 됩니다."
     ]
    },
    {
     "data": {
      "text/plain": [
       "AIMessageChunk(content='영화 기본정보:\\n        감독: 크리스토퍼 놀란\\n        출연진: 크리스찬 베일, 히스 레저, 앤 해서웨이\\n        예산: 1억 85만 달러\\n        박스 오피스: 10억 35만 달러\\n        장르: 액션, 스릴러\\n        시놉시스: 배트맨(크리스찬 베일)은 고담시를 위협하는 범죄자 조커(히스 레저)와의 전쟁에 직면합니다. 조커는 고담시를 혼란에 빠뜨리고, 배트맨과 시민들을 괴롭히며 도덕적 딜레마에 빠뜨립니다. 배트맨은 자신의 정체성과 도덕적 원칙을 고민하면서, 조커와의 대결에서 도시를 구원하기 위해 최후의 선택을 내리게 됩니다.')"
      ]
     },
     "execution_count": 26,
     "metadata": {},
     "output_type": "execute_result"
    }
   ],
   "source": [
    "from langchain.chat_models import ChatOpenAI\n",
    "from langchain.prompts.few_shot import FewShotChatMessagePromptTemplate\n",
    "from langchain.callbacks import StreamingStdOutCallbackHandler\n",
    "from langchain.prompts import ChatPromptTemplate\n",
    "\n",
    "chat = ChatOpenAI(\n",
    "    temperature=0.1,\n",
    "    streaming=True,\n",
    "    callbacks=[\n",
    "        StreamingStdOutCallbackHandler(),\n",
    "    ],\n",
    ")\n",
    "\n",
    "examples = [\n",
    "    {\n",
    "        \"movie\": \"Inception\",\n",
    "        \"answer\": \"\"\"\n",
    "        영화 기본정보:\n",
    "        감독: 크리스토퍼 놀란\n",
    "        출연진: 레오나르도 디카프리오, 엘렌 페이지, 조셉 고든 레빗\n",
    "        예산: 1억 6천만 달러\n",
    "        박스 오피스: 8억 2990만 달러\n",
    "        장르: SF, 스릴러\n",
    "        시놉시스: 도미닉 코브(레오나르도 디카프리오)는 꿈 속에서 정보를 훔치는 전문가이지만, 이번에는 더 위험한 임무, 즉 타인의 꿈 속에 아이디어를 심어 그 사람의 현실을 변화시키는 '인셉션'을 시도합니다. 이 과정에서 그는 자신의 과거와 마주하며, 임무의 성공이 자신과 팀원들의 운명을 영원히 바꿀 수 있음을 깨닫게 됩니다.\n",
    "        \"\"\",\n",
    "    },\n",
    "    {\n",
    "        \"movie\": \"The Matrix\",\n",
    "        \"answer\": \"\"\"\n",
    "        영화 기본정보:\n",
    "        감독: 워쇼스키\n",
    "        출연진: 키아누 리브스, 로렌스 피시번, 캐리 앤 모스\n",
    "        예산: 6,300만 달러\n",
    "        박스 오피스: 4억 6,670만 달러\n",
    "        장르: 액션, SF\n",
    "        시놉시스: 컴퓨터 해커 네오(키아누 리브스)는 자신이 살고 있는 현실이 실제가 아니라, 인류를 지배하는 인공지능에 의해 생성된 가상 현실인 '매트릭스'라는 사실을 알게 됩니다. 그는 모피어스(로렌스 피쉬번)와 트리니티(캐리-앤 모스)의 도움으로 매트릭스에 저항하는 반란군에 합류하며, 인류를 가상의 속박에서 해방시키기 위한 전투에 나섭니다.\n",
    "        \"\"\",\n",
    "    },\n",
    "]\n",
    "\n",
    "example_prompt = FewShotChatMessagePromptTemplate(\n",
    "    example_prompt=ChatPromptTemplate.from_messages(\n",
    "        [\n",
    "            (\"human\", \"Tell me about the movie {movie}.\"),\n",
    "            (\"ai\", \"{answer}\"),\n",
    "        ]\n",
    "    ),\n",
    "    examples=examples,\n",
    ")\n",
    "\n",
    "final_prompt = ChatPromptTemplate.from_messages(\n",
    "    [\n",
    "        (\"system\", \"You are a movie expert, you give detailed answers about movies.\"),\n",
    "        example_prompt,\n",
    "        (\"human\", \"Tell me about the movie {movie}.\"),\n",
    "    ]\n",
    ")\n",
    "\n",
    "chain = final_prompt | chat\n",
    "chain.invoke({\"movie\": \"Interstellar\"})\n",
    "print(\"\\n\\n\")\n",
    "chain.invoke({\"movie\": \"Darknight\"})"
   ]
  }
 ],
 "metadata": {
  "kernelspec": {
   "display_name": "env",
   "language": "python",
   "name": "python3"
  },
  "language_info": {
   "codemirror_mode": {
    "name": "ipython",
    "version": 3
   },
   "file_extension": ".py",
   "mimetype": "text/x-python",
   "name": "python",
   "nbconvert_exporter": "python",
   "pygments_lexer": "ipython3",
   "version": "3.11.6"
  }
 },
 "nbformat": 4,
 "nbformat_minor": 2
}
